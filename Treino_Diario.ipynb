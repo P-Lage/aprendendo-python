{
  "nbformat": 4,
  "nbformat_minor": 0,
  "metadata": {
    "colab": {
      "provenance": [],
      "authorship_tag": "ABX9TyOcqtvXk9ACUqQMZO9D4tj5",
      "include_colab_link": true
    },
    "kernelspec": {
      "name": "python3",
      "display_name": "Python 3"
    },
    "language_info": {
      "name": "python"
    }
  },
  "cells": [
    {
      "cell_type": "markdown",
      "metadata": {
        "id": "view-in-github",
        "colab_type": "text"
      },
      "source": [
        "<a href=\"https://colab.research.google.com/github/P-Lage/aprendendo-python/blob/main/Treino_Diario.ipynb\" target=\"_parent\"><img src=\"https://colab.research.google.com/assets/colab-badge.svg\" alt=\"Open In Colab\"/></a>"
      ]
    },
    {
      "cell_type": "markdown",
      "source": [
        "# Dia 1"
      ],
      "metadata": {
        "id": "X0TQwlZ5ySdY"
      }
    },
    {
      "cell_type": "markdown",
      "source": [
        "## Problema 1"
      ],
      "metadata": {
        "id": "sw4MgBYozivs"
      }
    },
    {
      "cell_type": "code",
      "source": [
        "def area_retangulo():\n",
        "  '''\n",
        "  Calcula a área de um retângulo dadas sua altura e largura\n",
        "  '''\n",
        "\n",
        "  altura = float(input('Insira a altura do retângulo(metros): '))\n",
        "  largura = float(input('Insira a largura do retângulo(metros): '))\n",
        "\n",
        "  if altura == 0 or largura == 0:\n",
        "    print(\"Insira valores válidos\")\n",
        "  else:\n",
        "    area = largura * altura\n",
        "\n",
        "  return print(f'A área do retângulo é: {area}m²')\n",
        "\n",
        "area_retangulo()"
      ],
      "metadata": {
        "id": "KUCrzMmwr2bf"
      },
      "execution_count": null,
      "outputs": []
    },
    {
      "cell_type": "markdown",
      "source": [
        "## Problema 2"
      ],
      "metadata": {
        "id": "DDDiXPxx3Rwu"
      }
    }
  ]
}